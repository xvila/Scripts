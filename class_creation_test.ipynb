{
 "cells": [
  {
   "cell_type": "code",
   "execution_count": 45,
   "metadata": {
    "ExecuteTime": {
     "end_time": "2018-07-03T16:24:52.167561Z",
     "start_time": "2018-07-03T16:24:52.163879Z"
    }
   },
   "outputs": [],
   "source": [
    "from sklearn import datasets\n",
    "import pandas as pd"
   ]
  },
  {
   "cell_type": "code",
   "execution_count": 72,
   "metadata": {
    "ExecuteTime": {
     "end_time": "2018-07-03T16:30:17.864660Z",
     "start_time": "2018-07-03T16:30:17.852829Z"
    }
   },
   "outputs": [],
   "source": [
    "import numpy as np\n",
    "class CustomSeries(pd.Series):\n",
    "    @property\n",
    "    def _constructor(self):\n",
    "        return CustomSeries\n",
    " \n",
    "    def custom_series_function(self):\n",
    "        return 'OK'\n",
    "    \n",
    "class DataSet(pd.DataFrame):\n",
    "    def __init__(self, df, *args, **kw):\n",
    "        super(DataSet, self).__init__(*args, **kw)\n",
    "        self.data = df\n",
    " \n",
    "    @property\n",
    "    def _constructor(self):\n",
    "        return DataSet\n",
    "    \n",
    "    _constructor_sliced = CustomSeries\n",
    "    \n",
    "    def print_shape(self):\n",
    "        ''' Prints the shape and columns of the dataframe'''\n",
    "\n",
    "        print(f'The shape of the dataframe is:{self.data.shape}')\n",
    "        print(self.data.info())\n",
    "\n",
    "        return\n",
    "\n",
    "    def check_dupes(self):\n",
    "        '''Checks to see if there are any duplicate observations in the dataframe'''\n",
    "\n",
    "        \n",
    "        return print(self.data.duplicated().value_counts())\n",
    "\n",
    "    def drop_dupes(self):\n",
    "        '''Drops the duplicates from the dataframe and prints out the dataframe length before and after the drop.\n",
    "        Returns a dataframe without duplicate records.'''\n",
    "\n",
    "        print('Number of records in original dataset: ', len(self.data))\n",
    "        data = self.data.drop_duplicates()\n",
    "        print('Number of records after dropping duplicates: ', len(self.data))\n",
    "        return data\n",
    "\n",
    "    def check_null(self):\n",
    "        ''' Counts the number of null records in the dataset'''\n",
    "        return self.data.isnull().sum()\n",
    "\n",
    "    def check_dates(self,l):\n",
    "        '''Takes a dataframe and an array and returns the min and max values for the values listed in the array'''\n",
    "\n",
    "        for col in l:\n",
    "            print(f'{col} min date: {self.data[col].min()}')\n",
    "            print(f'{col} max date: {self.data[col].max()}\\n')\n",
    "        return\n",
    "\n",
    "    def detect_outliers(self,column):\n",
    "        q75, q25 = np.percentile(self.data[column], [75 ,25])\n",
    "        iqr = q75 - q25\n",
    "\n",
    "        min_val = q25 - (iqr*1.5)\n",
    "        max_val = q75 + (iqr*1.5)\n",
    "\n",
    "        return min_val, max_val\n",
    "\n",
    "\n",
    "    def cdf(self):\n",
    "        ''' Create a cumulative distribution function for the series or array passed into the function. Use for plotting'''\n",
    "\n",
    "        n = len(self.data)\n",
    "\n",
    "        # x-data for the ECDF: x\n",
    "        x = np.sort(self.data)\n",
    "\n",
    "        # y-data for the ECDF: y\n",
    "        y = np.arange(1, n+1) / n\n",
    "\n",
    "        return x, y\n",
    "\n",
    "    def bin_size(self):\n",
    "        return int(np.sqrt(len(self.data)))"
   ]
  },
  {
   "cell_type": "code",
   "execution_count": 73,
   "metadata": {
    "ExecuteTime": {
     "end_time": "2018-07-03T16:30:21.869715Z",
     "start_time": "2018-07-03T16:30:21.475839Z"
    }
   },
   "outputs": [],
   "source": [
    "#we're getting the data directly off the internet here! how cool is that!\n",
    "iris_data = pd.read_csv(\"https://archive.ics.uci.edu/ml/machine-learning-databases/iris/bezdekIris.data\",\n",
    "                        names=[\"sepal_length\",\"sepal_width\",\"petal_length\",\"petal_width\",\"iris_type\"])\n",
    "iris_data_no_names = iris_data.drop(\"iris_type\",axis=1)\n",
    "iris_data_no_names.head()\n",
    "iris_data_features = iris_data_no_names.columns"
   ]
  },
  {
   "cell_type": "code",
   "execution_count": 74,
   "metadata": {
    "ExecuteTime": {
     "end_time": "2018-07-03T16:30:21.876690Z",
     "start_time": "2018-07-03T16:30:21.871926Z"
    }
   },
   "outputs": [
    {
     "name": "stderr",
     "output_type": "stream",
     "text": [
      "/Users/xavier/anaconda/lib/python3.6/site-packages/ipykernel_launcher.py:13: UserWarning: Pandas doesn't allow columns to be created via a new attribute name - see https://pandas.pydata.org/pandas-docs/stable/indexing.html#attribute-access\n",
      "  del sys.path[0]\n"
     ]
    }
   ],
   "source": [
    "iris_df = DataSet(iris_data)"
   ]
  },
  {
   "cell_type": "code",
   "execution_count": 75,
   "metadata": {
    "ExecuteTime": {
     "end_time": "2018-07-03T16:30:23.626894Z",
     "start_time": "2018-07-03T16:30:23.623505Z"
    }
   },
   "outputs": [],
   "source": [
    "bins = iris_df.bin_size()"
   ]
  },
  {
   "cell_type": "code",
   "execution_count": 76,
   "metadata": {
    "ExecuteTime": {
     "end_time": "2018-07-03T16:30:25.074654Z",
     "start_time": "2018-07-03T16:30:25.070235Z"
    }
   },
   "outputs": [
    {
     "data": {
      "text/plain": [
       "12"
      ]
     },
     "execution_count": 76,
     "metadata": {},
     "output_type": "execute_result"
    }
   ],
   "source": [
    "bins"
   ]
  },
  {
   "cell_type": "code",
   "execution_count": 77,
   "metadata": {
    "ExecuteTime": {
     "end_time": "2018-07-03T16:30:25.533009Z",
     "start_time": "2018-07-03T16:30:25.529467Z"
    }
   },
   "outputs": [],
   "source": [
    "outlier_min, outlier_max = iris_df.detect_outliers('sepal_width')"
   ]
  },
  {
   "cell_type": "code",
   "execution_count": 78,
   "metadata": {
    "ExecuteTime": {
     "end_time": "2018-07-03T16:30:25.727748Z",
     "start_time": "2018-07-03T16:30:25.723204Z"
    }
   },
   "outputs": [
    {
     "data": {
      "text/plain": [
       "2.05"
      ]
     },
     "execution_count": 78,
     "metadata": {},
     "output_type": "execute_result"
    }
   ],
   "source": [
    "outlier_min"
   ]
  },
  {
   "cell_type": "code",
   "execution_count": 79,
   "metadata": {
    "ExecuteTime": {
     "end_time": "2018-07-03T16:30:25.941661Z",
     "start_time": "2018-07-03T16:30:25.932642Z"
    }
   },
   "outputs": [
    {
     "name": "stdout",
     "output_type": "stream",
     "text": [
      "False    149\n",
      "True       1\n",
      "dtype: int64\n",
      "None\n"
     ]
    }
   ],
   "source": [
    "print(iris_df.check_dupes())"
   ]
  },
  {
   "cell_type": "code",
   "execution_count": 80,
   "metadata": {
    "ExecuteTime": {
     "end_time": "2018-07-03T16:30:26.141081Z",
     "start_time": "2018-07-03T16:30:26.134286Z"
    }
   },
   "outputs": [
    {
     "data": {
      "text/plain": [
       "sepal_length    0\n",
       "sepal_width     0\n",
       "petal_length    0\n",
       "petal_width     0\n",
       "iris_type       0\n",
       "dtype: int64"
      ]
     },
     "execution_count": 80,
     "metadata": {},
     "output_type": "execute_result"
    }
   ],
   "source": [
    "iris_df.check_null()"
   ]
  },
  {
   "cell_type": "code",
   "execution_count": 81,
   "metadata": {
    "ExecuteTime": {
     "end_time": "2018-07-03T16:30:26.671737Z",
     "start_time": "2018-07-03T16:30:26.665831Z"
    }
   },
   "outputs": [
    {
     "name": "stdout",
     "output_type": "stream",
     "text": [
      "Number of records in original dataset:  150\n",
      "Number of records after dropping duplicates:  150\n"
     ]
    }
   ],
   "source": [
    "no_dups = iris_df.drop_dupes()"
   ]
  },
  {
   "cell_type": "code",
   "execution_count": 82,
   "metadata": {
    "ExecuteTime": {
     "end_time": "2018-07-03T16:30:27.473385Z",
     "start_time": "2018-07-03T16:30:27.465629Z"
    }
   },
   "outputs": [
    {
     "data": {
      "text/plain": [
       "False    149\n",
       "dtype: int64"
      ]
     },
     "execution_count": 82,
     "metadata": {},
     "output_type": "execute_result"
    }
   ],
   "source": [
    "no_dups.duplicated().value_counts()"
   ]
  },
  {
   "cell_type": "code",
   "execution_count": null,
   "metadata": {},
   "outputs": [],
   "source": []
  }
 ],
 "metadata": {
  "kernelspec": {
   "display_name": "Python 3",
   "language": "python",
   "name": "python3"
  },
  "language_info": {
   "codemirror_mode": {
    "name": "ipython",
    "version": 3
   },
   "file_extension": ".py",
   "mimetype": "text/x-python",
   "name": "python",
   "nbconvert_exporter": "python",
   "pygments_lexer": "ipython3",
   "version": "3.6.5"
  },
  "toc": {
   "nav_menu": {},
   "number_sections": true,
   "sideBar": true,
   "skip_h1_title": false,
   "toc_cell": false,
   "toc_position": {},
   "toc_section_display": "block",
   "toc_window_display": true
  }
 },
 "nbformat": 4,
 "nbformat_minor": 2
}
